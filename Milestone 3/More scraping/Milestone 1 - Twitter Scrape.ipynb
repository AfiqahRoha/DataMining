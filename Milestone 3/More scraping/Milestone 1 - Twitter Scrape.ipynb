{
 "cells": [
  {
   "cell_type": "code",
   "execution_count": 4,
   "metadata": {},
   "outputs": [],
   "source": [
    "import GetOldTweets3 as got\n",
    "import pandas as pd"
   ]
  },
  {
   "cell_type": "code",
   "execution_count": 5,
   "metadata": {},
   "outputs": [],
   "source": [
    "# Hashtags of Laptop Brands Tweets:\n",
    "# 1) HP -> hpspectre, hpenvy, hpelitebook\n",
    "# 2) Apple -> macbookpro, mackbookair\n",
    "# 3) Dell -> dellinspiron, dellxps13, dellxps15\n",
    "# 4) Asus -> zenbook, vivobook, studiobook\n",
    "# 5) Lenovo -> thinkpad, lenovoyoga\n",
    "# 6) Acer -> acerswift7, aceraspire, acerswift3, acerswift5"
   ]
  },
  {
   "cell_type": "markdown",
   "metadata": {},
   "source": [
    "### HP Laptop Tweets"
   ]
  },
  {
   "cell_type": "code",
   "execution_count": 6,
   "metadata": {},
   "outputs": [
    {
     "name": "stdout",
     "output_type": "stream",
     "text": [
      "(1000, 3)\n"
     ]
    },
    {
     "data": {
      "text/html": [
       "<div>\n",
       "<style scoped>\n",
       "    .dataframe tbody tr th:only-of-type {\n",
       "        vertical-align: middle;\n",
       "    }\n",
       "\n",
       "    .dataframe tbody tr th {\n",
       "        vertical-align: top;\n",
       "    }\n",
       "\n",
       "    .dataframe thead th {\n",
       "        text-align: right;\n",
       "    }\n",
       "</style>\n",
       "<table border=\"1\" class=\"dataframe\">\n",
       "  <thead>\n",
       "    <tr style=\"text-align: right;\">\n",
       "      <th></th>\n",
       "      <th>timestamp</th>\n",
       "      <th>text</th>\n",
       "      <th>model</th>\n",
       "    </tr>\n",
       "  </thead>\n",
       "  <tbody>\n",
       "    <tr>\n",
       "      <td>0</td>\n",
       "      <td>2020-03-25 04:59:05+00:00</td>\n",
       "      <td>My #stayhome setup. Thinking I might do a live...</td>\n",
       "      <td>HP Spectre</td>\n",
       "    </tr>\n",
       "    <tr>\n",
       "      <td>1</td>\n",
       "      <td>2020-03-24 02:19:11+00:00</td>\n",
       "      <td>#Tecnología - Revisión portátil convertible #H...</td>\n",
       "      <td>HP Spectre</td>\n",
       "    </tr>\n",
       "  </tbody>\n",
       "</table>\n",
       "</div>"
      ],
      "text/plain": [
       "                  timestamp  \\\n",
       "0 2020-03-25 04:59:05+00:00   \n",
       "1 2020-03-24 02:19:11+00:00   \n",
       "\n",
       "                                                text       model  \n",
       "0  My #stayhome setup. Thinking I might do a live...  HP Spectre  \n",
       "1  #Tecnología - Revisión portátil convertible #H...  HP Spectre  "
      ]
     },
     "execution_count": 6,
     "metadata": {},
     "output_type": "execute_result"
    }
   ],
   "source": [
    "text_query = 'hpspectre'\n",
    "since_date = '2010-01-01'\n",
    "until_date = '2020-03-31'\n",
    "count = 1000\n",
    "# Creation of query object\n",
    "tweetCriteria = got.manager.TweetCriteria().setQuerySearch(text_query).setSince(since_date).setUntil(until_date).setMaxTweets(count)\n",
    "# Creation of list that contains all tweets\n",
    "tweets = got.manager.TweetManager.getTweets(tweetCriteria)\n",
    "# Creating list of chosen tweet data\n",
    "text_tweets = [[tweet.date, tweet.text] for tweet in tweets]\n",
    "df1 = pd.DataFrame(text_tweets, columns=['timestamp', 'text'])\n",
    "df1['model'] = 'HP Spectre'\n",
    "print(df1.shape)\n",
    "df1.head(2)"
   ]
  },
  {
   "cell_type": "code",
   "execution_count": 7,
   "metadata": {},
   "outputs": [
    {
     "name": "stdout",
     "output_type": "stream",
     "text": [
      "(1000, 3)\n"
     ]
    },
    {
     "data": {
      "text/html": [
       "<div>\n",
       "<style scoped>\n",
       "    .dataframe tbody tr th:only-of-type {\n",
       "        vertical-align: middle;\n",
       "    }\n",
       "\n",
       "    .dataframe tbody tr th {\n",
       "        vertical-align: top;\n",
       "    }\n",
       "\n",
       "    .dataframe thead th {\n",
       "        text-align: right;\n",
       "    }\n",
       "</style>\n",
       "<table border=\"1\" class=\"dataframe\">\n",
       "  <thead>\n",
       "    <tr style=\"text-align: right;\">\n",
       "      <th></th>\n",
       "      <th>timestamp</th>\n",
       "      <th>text</th>\n",
       "      <th>model</th>\n",
       "    </tr>\n",
       "  </thead>\n",
       "  <tbody>\n",
       "    <tr>\n",
       "      <td>0</td>\n",
       "      <td>2020-03-28 02:40:08+00:00</td>\n",
       "      <td>Am I alone in not liking the sound quality com...</td>\n",
       "      <td>HP Envy</td>\n",
       "    </tr>\n",
       "    <tr>\n",
       "      <td>1</td>\n",
       "      <td>2020-03-27 09:12:36+00:00</td>\n",
       "      <td>Wu-</td>\n",
       "      <td>HP Envy</td>\n",
       "    </tr>\n",
       "  </tbody>\n",
       "</table>\n",
       "</div>"
      ],
      "text/plain": [
       "                  timestamp  \\\n",
       "0 2020-03-28 02:40:08+00:00   \n",
       "1 2020-03-27 09:12:36+00:00   \n",
       "\n",
       "                                                text    model  \n",
       "0  Am I alone in not liking the sound quality com...  HP Envy  \n",
       "1                                                Wu-  HP Envy  "
      ]
     },
     "execution_count": 7,
     "metadata": {},
     "output_type": "execute_result"
    }
   ],
   "source": [
    "text_query = 'hpenvy'\n",
    "since_date = '2010-01-01'\n",
    "until_date = '2020-03-31'\n",
    "count = 1000\n",
    "# Creation of query object\n",
    "tweetCriteria = got.manager.TweetCriteria().setQuerySearch(text_query).setSince(since_date).setUntil(until_date).setMaxTweets(count)\n",
    "# Creation of list that contains all tweets\n",
    "tweets = got.manager.TweetManager.getTweets(tweetCriteria)\n",
    "# Creating list of chosen tweet data\n",
    "text_tweets = [[tweet.date, tweet.text] for tweet in tweets]\n",
    "df2 = pd.DataFrame(text_tweets, columns=['timestamp', 'text'])\n",
    "df2['model'] = 'HP Envy'\n",
    "print(df2.shape)\n",
    "df2.head(2)"
   ]
  },
  {
   "cell_type": "code",
   "execution_count": 8,
   "metadata": {},
   "outputs": [
    {
     "name": "stdout",
     "output_type": "stream",
     "text": [
      "(1000, 3)\n"
     ]
    },
    {
     "data": {
      "text/html": [
       "<div>\n",
       "<style scoped>\n",
       "    .dataframe tbody tr th:only-of-type {\n",
       "        vertical-align: middle;\n",
       "    }\n",
       "\n",
       "    .dataframe tbody tr th {\n",
       "        vertical-align: top;\n",
       "    }\n",
       "\n",
       "    .dataframe thead th {\n",
       "        text-align: right;\n",
       "    }\n",
       "</style>\n",
       "<table border=\"1\" class=\"dataframe\">\n",
       "  <thead>\n",
       "    <tr style=\"text-align: right;\">\n",
       "      <th></th>\n",
       "      <th>timestamp</th>\n",
       "      <th>text</th>\n",
       "      <th>model</th>\n",
       "    </tr>\n",
       "  </thead>\n",
       "  <tbody>\n",
       "    <tr>\n",
       "      <td>0</td>\n",
       "      <td>2020-03-29 05:18:53+00:00</td>\n",
       "      <td>Looking for a new emulation that makes me Happ...</td>\n",
       "      <td>HP Elitebook</td>\n",
       "    </tr>\n",
       "    <tr>\n",
       "      <td>1</td>\n",
       "      <td>2020-03-28 10:55:55+00:00</td>\n",
       "      <td>#Openbox HP Elitebook 840 G6 8365U 14 Laptop a...</td>\n",
       "      <td>HP Elitebook</td>\n",
       "    </tr>\n",
       "  </tbody>\n",
       "</table>\n",
       "</div>"
      ],
      "text/plain": [
       "                  timestamp  \\\n",
       "0 2020-03-29 05:18:53+00:00   \n",
       "1 2020-03-28 10:55:55+00:00   \n",
       "\n",
       "                                                text         model  \n",
       "0  Looking for a new emulation that makes me Happ...  HP Elitebook  \n",
       "1  #Openbox HP Elitebook 840 G6 8365U 14 Laptop a...  HP Elitebook  "
      ]
     },
     "execution_count": 8,
     "metadata": {},
     "output_type": "execute_result"
    }
   ],
   "source": [
    "text_query = 'hpelitebook'\n",
    "since_date = '2010-01-01'\n",
    "until_date = '2020-03-31'\n",
    "count = 1000\n",
    "# Creation of query object\n",
    "tweetCriteria = got.manager.TweetCriteria().setQuerySearch(text_query).setSince(since_date).setUntil(until_date).setMaxTweets(count)\n",
    "# Creation of list that contains all tweets\n",
    "tweets = got.manager.TweetManager.getTweets(tweetCriteria)\n",
    "# Creating list of chosen tweet data\n",
    "text_tweets = [[tweet.date, tweet.text] for tweet in tweets]\n",
    "df3 = pd.DataFrame(text_tweets, columns=['timestamp', 'text'])\n",
    "df3['model'] = 'HP Elitebook'\n",
    "print(df3.shape)\n",
    "df3.head(2)"
   ]
  },
  {
   "cell_type": "markdown",
   "metadata": {},
   "source": [
    "### Apple Laptop Tweets"
   ]
  },
  {
   "cell_type": "code",
   "execution_count": 9,
   "metadata": {},
   "outputs": [
    {
     "name": "stdout",
     "output_type": "stream",
     "text": [
      "(1500, 3)\n"
     ]
    },
    {
     "data": {
      "text/html": [
       "<div>\n",
       "<style scoped>\n",
       "    .dataframe tbody tr th:only-of-type {\n",
       "        vertical-align: middle;\n",
       "    }\n",
       "\n",
       "    .dataframe tbody tr th {\n",
       "        vertical-align: top;\n",
       "    }\n",
       "\n",
       "    .dataframe thead th {\n",
       "        text-align: right;\n",
       "    }\n",
       "</style>\n",
       "<table border=\"1\" class=\"dataframe\">\n",
       "  <thead>\n",
       "    <tr style=\"text-align: right;\">\n",
       "      <th></th>\n",
       "      <th>timestamp</th>\n",
       "      <th>text</th>\n",
       "      <th>model</th>\n",
       "    </tr>\n",
       "  </thead>\n",
       "  <tbody>\n",
       "    <tr>\n",
       "      <td>0</td>\n",
       "      <td>2020-03-30 23:59:54+00:00</td>\n",
       "      <td>Handed down my MacBook Pro to my wife because ...</td>\n",
       "      <td>Macbook Pro</td>\n",
       "    </tr>\n",
       "    <tr>\n",
       "      <td>1</td>\n",
       "      <td>2020-03-30 23:58:22+00:00</td>\n",
       "      <td>MacBook Pro touchbar IPad Pro iPhone 11pro/max...</td>\n",
       "      <td>Macbook Pro</td>\n",
       "    </tr>\n",
       "  </tbody>\n",
       "</table>\n",
       "</div>"
      ],
      "text/plain": [
       "                  timestamp  \\\n",
       "0 2020-03-30 23:59:54+00:00   \n",
       "1 2020-03-30 23:58:22+00:00   \n",
       "\n",
       "                                                text        model  \n",
       "0  Handed down my MacBook Pro to my wife because ...  Macbook Pro  \n",
       "1  MacBook Pro touchbar IPad Pro iPhone 11pro/max...  Macbook Pro  "
      ]
     },
     "execution_count": 9,
     "metadata": {},
     "output_type": "execute_result"
    }
   ],
   "source": [
    "text_query = 'macbookpro'\n",
    "since_date = '2010-01-01'\n",
    "until_date = '2020-03-31'\n",
    "count = 1500\n",
    "# Creation of query object\n",
    "tweetCriteria = got.manager.TweetCriteria().setQuerySearch(text_query).setSince(since_date).setUntil(until_date).setMaxTweets(count)\n",
    "# Creation of list that contains all tweets\n",
    "tweets = got.manager.TweetManager.getTweets(tweetCriteria)\n",
    "# Creating list of chosen tweet data\n",
    "text_tweets = [[tweet.date, tweet.text] for tweet in tweets]\n",
    "df4 = pd.DataFrame(text_tweets, columns=['timestamp', 'text'])\n",
    "df4['model'] = 'Macbook Pro'\n",
    "print(df4.shape)\n",
    "df4.head(2)"
   ]
  },
  {
   "cell_type": "code",
   "execution_count": 10,
   "metadata": {},
   "outputs": [
    {
     "name": "stdout",
     "output_type": "stream",
     "text": [
      "(1500, 3)\n"
     ]
    },
    {
     "data": {
      "text/html": [
       "<div>\n",
       "<style scoped>\n",
       "    .dataframe tbody tr th:only-of-type {\n",
       "        vertical-align: middle;\n",
       "    }\n",
       "\n",
       "    .dataframe tbody tr th {\n",
       "        vertical-align: top;\n",
       "    }\n",
       "\n",
       "    .dataframe thead th {\n",
       "        text-align: right;\n",
       "    }\n",
       "</style>\n",
       "<table border=\"1\" class=\"dataframe\">\n",
       "  <thead>\n",
       "    <tr style=\"text-align: right;\">\n",
       "      <th></th>\n",
       "      <th>timestamp</th>\n",
       "      <th>text</th>\n",
       "      <th>model</th>\n",
       "    </tr>\n",
       "  </thead>\n",
       "  <tbody>\n",
       "    <tr>\n",
       "      <td>0</td>\n",
       "      <td>2020-03-30 23:59:27+00:00</td>\n",
       "      <td>うちも妻のスイッチライト、僕のMacBook Airと経済活動に積極的なのでぜひとも。</td>\n",
       "      <td>Macbook Air</td>\n",
       "    </tr>\n",
       "    <tr>\n",
       "      <td>1</td>\n",
       "      <td>2020-03-30 23:59:25+00:00</td>\n",
       "      <td>次の構成で #mac で #マイナンバーカード が使えました。 マイナポータルや国税庁確定申...</td>\n",
       "      <td>Macbook Air</td>\n",
       "    </tr>\n",
       "  </tbody>\n",
       "</table>\n",
       "</div>"
      ],
      "text/plain": [
       "                  timestamp  \\\n",
       "0 2020-03-30 23:59:27+00:00   \n",
       "1 2020-03-30 23:59:25+00:00   \n",
       "\n",
       "                                                text        model  \n",
       "0        うちも妻のスイッチライト、僕のMacBook Airと経済活動に積極的なのでぜひとも。  Macbook Air  \n",
       "1  次の構成で #mac で #マイナンバーカード が使えました。 マイナポータルや国税庁確定申...  Macbook Air  "
      ]
     },
     "execution_count": 10,
     "metadata": {},
     "output_type": "execute_result"
    }
   ],
   "source": [
    "text_query = 'macbookair'\n",
    "since_date = '2010-01-01'\n",
    "until_date = '2020-03-31'\n",
    "count = 1500\n",
    "# Creation of query object\n",
    "tweetCriteria = got.manager.TweetCriteria().setQuerySearch(text_query).setSince(since_date).setUntil(until_date).setMaxTweets(count)\n",
    "# Creation of list that contains all tweets\n",
    "tweets = got.manager.TweetManager.getTweets(tweetCriteria)\n",
    "# Creating list of chosen tweet data\n",
    "text_tweets = [[tweet.date, tweet.text] for tweet in tweets]\n",
    "df5 = pd.DataFrame(text_tweets, columns=['timestamp', 'text'])\n",
    "df5['model'] = 'Macbook Air'\n",
    "print(df5.shape)\n",
    "df5.head(2)"
   ]
  },
  {
   "cell_type": "markdown",
   "metadata": {},
   "source": [
    "### Dell Laptop Tweets"
   ]
  },
  {
   "cell_type": "code",
   "execution_count": 11,
   "metadata": {},
   "outputs": [
    {
     "name": "stdout",
     "output_type": "stream",
     "text": [
      "(1000, 3)\n"
     ]
    },
    {
     "data": {
      "text/html": [
       "<div>\n",
       "<style scoped>\n",
       "    .dataframe tbody tr th:only-of-type {\n",
       "        vertical-align: middle;\n",
       "    }\n",
       "\n",
       "    .dataframe tbody tr th {\n",
       "        vertical-align: top;\n",
       "    }\n",
       "\n",
       "    .dataframe thead th {\n",
       "        text-align: right;\n",
       "    }\n",
       "</style>\n",
       "<table border=\"1\" class=\"dataframe\">\n",
       "  <thead>\n",
       "    <tr style=\"text-align: right;\">\n",
       "      <th></th>\n",
       "      <th>timestamp</th>\n",
       "      <th>text</th>\n",
       "      <th>model</th>\n",
       "    </tr>\n",
       "  </thead>\n",
       "  <tbody>\n",
       "    <tr>\n",
       "      <td>0</td>\n",
       "      <td>2020-03-27 18:52:00+00:00</td>\n",
       "      <td>#DellInspiron 15 7000 review: Powerful, afford...</td>\n",
       "      <td>Dell Inspiron</td>\n",
       "    </tr>\n",
       "    <tr>\n",
       "      <td>1</td>\n",
       "      <td>2020-03-27 16:57:51+00:00</td>\n",
       "      <td>Dell Inspiron Intel Core i7 8° geração pronto....</td>\n",
       "      <td>Dell Inspiron</td>\n",
       "    </tr>\n",
       "  </tbody>\n",
       "</table>\n",
       "</div>"
      ],
      "text/plain": [
       "                  timestamp  \\\n",
       "0 2020-03-27 18:52:00+00:00   \n",
       "1 2020-03-27 16:57:51+00:00   \n",
       "\n",
       "                                                text          model  \n",
       "0  #DellInspiron 15 7000 review: Powerful, afford...  Dell Inspiron  \n",
       "1  Dell Inspiron Intel Core i7 8° geração pronto....  Dell Inspiron  "
      ]
     },
     "execution_count": 11,
     "metadata": {},
     "output_type": "execute_result"
    }
   ],
   "source": [
    "text_query = 'dellinspiron'\n",
    "since_date = '2010-01-01'\n",
    "until_date = '2020-03-31'\n",
    "count = 1000\n",
    "# Creation of query object\n",
    "tweetCriteria = got.manager.TweetCriteria().setQuerySearch(text_query).setSince(since_date).setUntil(until_date).setMaxTweets(count)\n",
    "# Creation of list that contains all tweets\n",
    "tweets = got.manager.TweetManager.getTweets(tweetCriteria)\n",
    "# Creating list of chosen tweet data\n",
    "text_tweets = [[tweet.date, tweet.text] for tweet in tweets]\n",
    "df6 = pd.DataFrame(text_tweets, columns=['timestamp', 'text'])\n",
    "df6['model'] = 'Dell Inspiron'\n",
    "print(df6.shape)\n",
    "df6.head(2)"
   ]
  },
  {
   "cell_type": "code",
   "execution_count": 12,
   "metadata": {},
   "outputs": [
    {
     "name": "stdout",
     "output_type": "stream",
     "text": [
      "(1000, 3)\n"
     ]
    },
    {
     "data": {
      "text/html": [
       "<div>\n",
       "<style scoped>\n",
       "    .dataframe tbody tr th:only-of-type {\n",
       "        vertical-align: middle;\n",
       "    }\n",
       "\n",
       "    .dataframe tbody tr th {\n",
       "        vertical-align: top;\n",
       "    }\n",
       "\n",
       "    .dataframe thead th {\n",
       "        text-align: right;\n",
       "    }\n",
       "</style>\n",
       "<table border=\"1\" class=\"dataframe\">\n",
       "  <thead>\n",
       "    <tr style=\"text-align: right;\">\n",
       "      <th></th>\n",
       "      <th>timestamp</th>\n",
       "      <th>text</th>\n",
       "      <th>model</th>\n",
       "    </tr>\n",
       "  </thead>\n",
       "  <tbody>\n",
       "    <tr>\n",
       "      <td>0</td>\n",
       "      <td>2020-03-30 22:44:52+00:00</td>\n",
       "      <td>Le nouveau Dell XPS 13 est disponible en exclu...</td>\n",
       "      <td>Dell XPS 13</td>\n",
       "    </tr>\n",
       "    <tr>\n",
       "      <td>1</td>\n",
       "      <td>2020-03-30 21:19:48+00:00</td>\n",
       "      <td>But can it run Linux? I'm looking for a 2-in-1...</td>\n",
       "      <td>Dell XPS 13</td>\n",
       "    </tr>\n",
       "  </tbody>\n",
       "</table>\n",
       "</div>"
      ],
      "text/plain": [
       "                  timestamp  \\\n",
       "0 2020-03-30 22:44:52+00:00   \n",
       "1 2020-03-30 21:19:48+00:00   \n",
       "\n",
       "                                                text        model  \n",
       "0  Le nouveau Dell XPS 13 est disponible en exclu...  Dell XPS 13  \n",
       "1  But can it run Linux? I'm looking for a 2-in-1...  Dell XPS 13  "
      ]
     },
     "execution_count": 12,
     "metadata": {},
     "output_type": "execute_result"
    }
   ],
   "source": [
    "text_query = 'dellxps13'\n",
    "since_date = '2010-01-01'\n",
    "until_date = '2020-03-31'\n",
    "count = 1000\n",
    "# Creation of query object\n",
    "tweetCriteria = got.manager.TweetCriteria().setQuerySearch(text_query).setSince(since_date).setUntil(until_date).setMaxTweets(count)\n",
    "# Creation of list that contains all tweets\n",
    "tweets = got.manager.TweetManager.getTweets(tweetCriteria)\n",
    "# Creating list of chosen tweet data\n",
    "text_tweets = [[tweet.date, tweet.text] for tweet in tweets]\n",
    "df7 = pd.DataFrame(text_tweets, columns=['timestamp', 'text'])\n",
    "df7['model'] = 'Dell XPS 13'\n",
    "print(df7.shape)\n",
    "df7.head(2)"
   ]
  },
  {
   "cell_type": "code",
   "execution_count": 25,
   "metadata": {},
   "outputs": [
    {
     "name": "stdout",
     "output_type": "stream",
     "text": [
      "(941, 3)\n"
     ]
    },
    {
     "data": {
      "text/html": [
       "<div>\n",
       "<style scoped>\n",
       "    .dataframe tbody tr th:only-of-type {\n",
       "        vertical-align: middle;\n",
       "    }\n",
       "\n",
       "    .dataframe tbody tr th {\n",
       "        vertical-align: top;\n",
       "    }\n",
       "\n",
       "    .dataframe thead th {\n",
       "        text-align: right;\n",
       "    }\n",
       "</style>\n",
       "<table border=\"1\" class=\"dataframe\">\n",
       "  <thead>\n",
       "    <tr style=\"text-align: right;\">\n",
       "      <th></th>\n",
       "      <th>timestamp</th>\n",
       "      <th>text</th>\n",
       "      <th>model</th>\n",
       "    </tr>\n",
       "  </thead>\n",
       "  <tbody>\n",
       "    <tr>\n",
       "      <td>0</td>\n",
       "      <td>2020-03-28 10:55:25+00:00</td>\n",
       "      <td>Dell XPS 15 7590 배터리 최적화 방법 6가지(11시간) https://...</td>\n",
       "      <td>Dell XPS 15</td>\n",
       "    </tr>\n",
       "    <tr>\n",
       "      <td>1</td>\n",
       "      <td>2020-03-17 16:58:32+00:00</td>\n",
       "      <td>Des gens ici utilisent un Msi prestige 15 ? Ou...</td>\n",
       "      <td>Dell XPS 15</td>\n",
       "    </tr>\n",
       "  </tbody>\n",
       "</table>\n",
       "</div>"
      ],
      "text/plain": [
       "                  timestamp  \\\n",
       "0 2020-03-28 10:55:25+00:00   \n",
       "1 2020-03-17 16:58:32+00:00   \n",
       "\n",
       "                                                text        model  \n",
       "0  Dell XPS 15 7590 배터리 최적화 방법 6가지(11시간) https://...  Dell XPS 15  \n",
       "1  Des gens ici utilisent un Msi prestige 15 ? Ou...  Dell XPS 15  "
      ]
     },
     "execution_count": 25,
     "metadata": {},
     "output_type": "execute_result"
    }
   ],
   "source": [
    "text_query = 'dellxps15'\n",
    "since_date = '2010-01-01'\n",
    "until_date = '2020-03-31'\n",
    "count = 1000\n",
    "# Creation of query object\n",
    "tweetCriteria = got.manager.TweetCriteria().setQuerySearch(text_query).setSince(since_date).setUntil(until_date).setMaxTweets(count)\n",
    "# Creation of list that contains all tweets\n",
    "tweets = got.manager.TweetManager.getTweets(tweetCriteria)\n",
    "# Creating list of chosen tweet data\n",
    "text_tweets = [[tweet.date, tweet.text] for tweet in tweets]\n",
    "df8 = pd.DataFrame(text_tweets, columns=['timestamp', 'text'])\n",
    "df8['model'] = 'Dell XPS 15'\n",
    "print(df8.shape)\n",
    "df8.head(2)"
   ]
  },
  {
   "cell_type": "markdown",
   "metadata": {},
   "source": [
    "### Asus Laptop Tweets"
   ]
  },
  {
   "cell_type": "code",
   "execution_count": 14,
   "metadata": {},
   "outputs": [
    {
     "name": "stdout",
     "output_type": "stream",
     "text": [
      "(1000, 3)\n"
     ]
    },
    {
     "data": {
      "text/html": [
       "<div>\n",
       "<style scoped>\n",
       "    .dataframe tbody tr th:only-of-type {\n",
       "        vertical-align: middle;\n",
       "    }\n",
       "\n",
       "    .dataframe tbody tr th {\n",
       "        vertical-align: top;\n",
       "    }\n",
       "\n",
       "    .dataframe thead th {\n",
       "        text-align: right;\n",
       "    }\n",
       "</style>\n",
       "<table border=\"1\" class=\"dataframe\">\n",
       "  <thead>\n",
       "    <tr style=\"text-align: right;\">\n",
       "      <th></th>\n",
       "      <th>timestamp</th>\n",
       "      <th>text</th>\n",
       "      <th>model</th>\n",
       "    </tr>\n",
       "  </thead>\n",
       "  <tbody>\n",
       "    <tr>\n",
       "      <td>0</td>\n",
       "      <td>2020-03-30 23:36:21+00:00</td>\n",
       "      <td>released na pala yung zenbook pro duo</td>\n",
       "      <td>Asus Zenbook</td>\n",
       "    </tr>\n",
       "    <tr>\n",
       "      <td>1</td>\n",
       "      <td>2020-03-30 23:11:23+00:00</td>\n",
       "      <td>Yeah. I really like my MacBook pro. The qualit...</td>\n",
       "      <td>Asus Zenbook</td>\n",
       "    </tr>\n",
       "  </tbody>\n",
       "</table>\n",
       "</div>"
      ],
      "text/plain": [
       "                  timestamp  \\\n",
       "0 2020-03-30 23:36:21+00:00   \n",
       "1 2020-03-30 23:11:23+00:00   \n",
       "\n",
       "                                                text         model  \n",
       "0             released na pala yung zenbook pro duo   Asus Zenbook  \n",
       "1  Yeah. I really like my MacBook pro. The qualit...  Asus Zenbook  "
      ]
     },
     "execution_count": 14,
     "metadata": {},
     "output_type": "execute_result"
    }
   ],
   "source": [
    "text_query = 'zenbook'\n",
    "since_date = '2010-01-01'\n",
    "until_date = '2020-03-31'\n",
    "count = 1000\n",
    "# Creation of query object\n",
    "tweetCriteria = got.manager.TweetCriteria().setQuerySearch(text_query).setSince(since_date).setUntil(until_date).setMaxTweets(count)\n",
    "# Creation of list that contains all tweets\n",
    "tweets = got.manager.TweetManager.getTweets(tweetCriteria)\n",
    "# Creating list of chosen tweet data\n",
    "text_tweets = [[tweet.date, tweet.text] for tweet in tweets]\n",
    "df9 = pd.DataFrame(text_tweets, columns=['timestamp', 'text'])\n",
    "df9['model'] = 'Asus Zenbook'\n",
    "print(df9.shape)\n",
    "df9.head(2)"
   ]
  },
  {
   "cell_type": "code",
   "execution_count": 15,
   "metadata": {},
   "outputs": [
    {
     "name": "stdout",
     "output_type": "stream",
     "text": [
      "(1000, 3)\n"
     ]
    },
    {
     "data": {
      "text/html": [
       "<div>\n",
       "<style scoped>\n",
       "    .dataframe tbody tr th:only-of-type {\n",
       "        vertical-align: middle;\n",
       "    }\n",
       "\n",
       "    .dataframe tbody tr th {\n",
       "        vertical-align: top;\n",
       "    }\n",
       "\n",
       "    .dataframe thead th {\n",
       "        text-align: right;\n",
       "    }\n",
       "</style>\n",
       "<table border=\"1\" class=\"dataframe\">\n",
       "  <thead>\n",
       "    <tr style=\"text-align: right;\">\n",
       "      <th></th>\n",
       "      <th>timestamp</th>\n",
       "      <th>text</th>\n",
       "      <th>model</th>\n",
       "    </tr>\n",
       "  </thead>\n",
       "  <tbody>\n",
       "    <tr>\n",
       "      <td>0</td>\n",
       "      <td>2020-03-30 23:04:32+00:00</td>\n",
       "      <td>Asus vivobook enaqqq</td>\n",
       "      <td>Asus Vivobook</td>\n",
       "    </tr>\n",
       "    <tr>\n",
       "      <td>1</td>\n",
       "      <td>2020-03-30 22:03:05+00:00</td>\n",
       "      <td>¡El único ordenador portátil con DOS pantallas...</td>\n",
       "      <td>Asus Vivobook</td>\n",
       "    </tr>\n",
       "  </tbody>\n",
       "</table>\n",
       "</div>"
      ],
      "text/plain": [
       "                  timestamp  \\\n",
       "0 2020-03-30 23:04:32+00:00   \n",
       "1 2020-03-30 22:03:05+00:00   \n",
       "\n",
       "                                                text          model  \n",
       "0                               Asus vivobook enaqqq  Asus Vivobook  \n",
       "1  ¡El único ordenador portátil con DOS pantallas...  Asus Vivobook  "
      ]
     },
     "execution_count": 15,
     "metadata": {},
     "output_type": "execute_result"
    }
   ],
   "source": [
    "text_query = 'vivobook'\n",
    "since_date = '2010-01-01'\n",
    "until_date = '2020-03-31'\n",
    "count = 1000\n",
    "# Creation of query object\n",
    "tweetCriteria = got.manager.TweetCriteria().setQuerySearch(text_query).setSince(since_date).setUntil(until_date).setMaxTweets(count)\n",
    "# Creation of list that contains all tweets\n",
    "tweets = got.manager.TweetManager.getTweets(tweetCriteria)\n",
    "# Creating list of chosen tweet data\n",
    "text_tweets = [[tweet.date, tweet.text] for tweet in tweets]\n",
    "df10 = pd.DataFrame(text_tweets, columns=['timestamp', 'text'])\n",
    "df10['model'] = 'Asus Vivobook'\n",
    "print(df10.shape)\n",
    "df10.head(2)"
   ]
  },
  {
   "cell_type": "code",
   "execution_count": 16,
   "metadata": {},
   "outputs": [
    {
     "name": "stdout",
     "output_type": "stream",
     "text": [
      "(1000, 3)\n"
     ]
    },
    {
     "data": {
      "text/html": [
       "<div>\n",
       "<style scoped>\n",
       "    .dataframe tbody tr th:only-of-type {\n",
       "        vertical-align: middle;\n",
       "    }\n",
       "\n",
       "    .dataframe tbody tr th {\n",
       "        vertical-align: top;\n",
       "    }\n",
       "\n",
       "    .dataframe thead th {\n",
       "        text-align: right;\n",
       "    }\n",
       "</style>\n",
       "<table border=\"1\" class=\"dataframe\">\n",
       "  <thead>\n",
       "    <tr style=\"text-align: right;\">\n",
       "      <th></th>\n",
       "      <th>timestamp</th>\n",
       "      <th>text</th>\n",
       "      <th>model</th>\n",
       "    </tr>\n",
       "  </thead>\n",
       "  <tbody>\n",
       "    <tr>\n",
       "      <td>0</td>\n",
       "      <td>2020-03-28 08:47:58+00:00</td>\n",
       "      <td>Build a stronger, healthier and more profitabl...</td>\n",
       "      <td>Asus Studiobook</td>\n",
       "    </tr>\n",
       "    <tr>\n",
       "      <td>1</td>\n",
       "      <td>2020-03-27 09:59:09+00:00</td>\n",
       "      <td>El procesador de alto rendimiento del #ProArt ...</td>\n",
       "      <td>Asus Studiobook</td>\n",
       "    </tr>\n",
       "  </tbody>\n",
       "</table>\n",
       "</div>"
      ],
      "text/plain": [
       "                  timestamp  \\\n",
       "0 2020-03-28 08:47:58+00:00   \n",
       "1 2020-03-27 09:59:09+00:00   \n",
       "\n",
       "                                                text            model  \n",
       "0  Build a stronger, healthier and more profitabl...  Asus Studiobook  \n",
       "1  El procesador de alto rendimiento del #ProArt ...  Asus Studiobook  "
      ]
     },
     "execution_count": 16,
     "metadata": {},
     "output_type": "execute_result"
    }
   ],
   "source": [
    "text_query = 'studiobook'\n",
    "since_date = '2010-01-01'\n",
    "until_date = '2020-03-31'\n",
    "count = 1000\n",
    "# Creation of query object\n",
    "tweetCriteria = got.manager.TweetCriteria().setQuerySearch(text_query).setSince(since_date).setUntil(until_date).setMaxTweets(count)\n",
    "# Creation of list that contains all tweets\n",
    "tweets = got.manager.TweetManager.getTweets(tweetCriteria)\n",
    "# Creating list of chosen tweet data\n",
    "text_tweets = [[tweet.date, tweet.text] for tweet in tweets]\n",
    "df11 = pd.DataFrame(text_tweets, columns=['timestamp', 'text'])\n",
    "df11['model'] = 'Asus Studiobook'\n",
    "print(df11.shape)\n",
    "df11.head(2)"
   ]
  },
  {
   "cell_type": "markdown",
   "metadata": {},
   "source": [
    "### Lenovo Laptop Tweets"
   ]
  },
  {
   "cell_type": "code",
   "execution_count": 17,
   "metadata": {},
   "outputs": [
    {
     "name": "stdout",
     "output_type": "stream",
     "text": [
      "(1500, 3)\n"
     ]
    },
    {
     "data": {
      "text/html": [
       "<div>\n",
       "<style scoped>\n",
       "    .dataframe tbody tr th:only-of-type {\n",
       "        vertical-align: middle;\n",
       "    }\n",
       "\n",
       "    .dataframe tbody tr th {\n",
       "        vertical-align: top;\n",
       "    }\n",
       "\n",
       "    .dataframe thead th {\n",
       "        text-align: right;\n",
       "    }\n",
       "</style>\n",
       "<table border=\"1\" class=\"dataframe\">\n",
       "  <thead>\n",
       "    <tr style=\"text-align: right;\">\n",
       "      <th></th>\n",
       "      <th>timestamp</th>\n",
       "      <th>text</th>\n",
       "      <th>model</th>\n",
       "    </tr>\n",
       "  </thead>\n",
       "  <tbody>\n",
       "    <tr>\n",
       "      <td>0</td>\n",
       "      <td>2020-03-30 23:59:38+00:00</td>\n",
       "      <td>は？</td>\n",
       "      <td>Lenovo Thinkpad</td>\n",
       "    </tr>\n",
       "    <tr>\n",
       "      <td>1</td>\n",
       "      <td>2020-03-30 23:59:03+00:00</td>\n",
       "      <td>あとプラスで顔面崩壊</td>\n",
       "      <td>Lenovo Thinkpad</td>\n",
       "    </tr>\n",
       "  </tbody>\n",
       "</table>\n",
       "</div>"
      ],
      "text/plain": [
       "                  timestamp        text            model\n",
       "0 2020-03-30 23:59:38+00:00          は？  Lenovo Thinkpad\n",
       "1 2020-03-30 23:59:03+00:00  あとプラスで顔面崩壊  Lenovo Thinkpad"
      ]
     },
     "execution_count": 17,
     "metadata": {},
     "output_type": "execute_result"
    }
   ],
   "source": [
    "text_query = 'thinkpad'\n",
    "since_date = '2010-01-01'\n",
    "until_date = '2020-03-31'\n",
    "count = 1500\n",
    "# Creation of query object\n",
    "tweetCriteria = got.manager.TweetCriteria().setQuerySearch(text_query).setSince(since_date).setUntil(until_date).setMaxTweets(count)\n",
    "# Creation of list that contains all tweets\n",
    "tweets = got.manager.TweetManager.getTweets(tweetCriteria)\n",
    "# Creating list of chosen tweet data\n",
    "text_tweets = [[tweet.date, tweet.text] for tweet in tweets]\n",
    "df12 = pd.DataFrame(text_tweets, columns=['timestamp', 'text'])\n",
    "df12['model'] = 'Lenovo Thinkpad'\n",
    "print(df12.shape)\n",
    "df12.head(2)"
   ]
  },
  {
   "cell_type": "code",
   "execution_count": 19,
   "metadata": {},
   "outputs": [
    {
     "name": "stdout",
     "output_type": "stream",
     "text": [
      "(1500, 3)\n"
     ]
    },
    {
     "data": {
      "text/html": [
       "<div>\n",
       "<style scoped>\n",
       "    .dataframe tbody tr th:only-of-type {\n",
       "        vertical-align: middle;\n",
       "    }\n",
       "\n",
       "    .dataframe tbody tr th {\n",
       "        vertical-align: top;\n",
       "    }\n",
       "\n",
       "    .dataframe thead th {\n",
       "        text-align: right;\n",
       "    }\n",
       "</style>\n",
       "<table border=\"1\" class=\"dataframe\">\n",
       "  <thead>\n",
       "    <tr style=\"text-align: right;\">\n",
       "      <th></th>\n",
       "      <th>timestamp</th>\n",
       "      <th>text</th>\n",
       "      <th>model</th>\n",
       "    </tr>\n",
       "  </thead>\n",
       "  <tbody>\n",
       "    <tr>\n",
       "      <td>0</td>\n",
       "      <td>2020-03-30 20:54:59+00:00</td>\n",
       "      <td>Com a inteligência artificial do Lenovo Yoga S...</td>\n",
       "      <td>Lenovo Yoga</td>\n",
       "    </tr>\n",
       "    <tr>\n",
       "      <td>1</td>\n",
       "      <td>2020-03-30 16:21:03+00:00</td>\n",
       "      <td>USB C to Dual HDMI Adapter 4K @60hz,Type C to ...</td>\n",
       "      <td>Lenovo Yoga</td>\n",
       "    </tr>\n",
       "  </tbody>\n",
       "</table>\n",
       "</div>"
      ],
      "text/plain": [
       "                  timestamp  \\\n",
       "0 2020-03-30 20:54:59+00:00   \n",
       "1 2020-03-30 16:21:03+00:00   \n",
       "\n",
       "                                                text        model  \n",
       "0  Com a inteligência artificial do Lenovo Yoga S...  Lenovo Yoga  \n",
       "1  USB C to Dual HDMI Adapter 4K @60hz,Type C to ...  Lenovo Yoga  "
      ]
     },
     "execution_count": 19,
     "metadata": {},
     "output_type": "execute_result"
    }
   ],
   "source": [
    "text_query = 'lenovoyoga'\n",
    "since_date = '2010-01-01'\n",
    "until_date = '2020-03-31'\n",
    "count = 1500\n",
    "# Creation of query object\n",
    "tweetCriteria = got.manager.TweetCriteria().setQuerySearch(text_query).setSince(since_date).setUntil(until_date).setMaxTweets(count)\n",
    "# Creation of list that contains all tweets\n",
    "tweets = got.manager.TweetManager.getTweets(tweetCriteria)\n",
    "# Creating list of chosen tweet data\n",
    "text_tweets = [[tweet.date, tweet.text] for tweet in tweets]\n",
    "df13 = pd.DataFrame(text_tweets, columns=['timestamp', 'text'])\n",
    "df13['model'] = 'Lenovo Yoga'\n",
    "print(df13.shape)\n",
    "df13.head(2)"
   ]
  },
  {
   "cell_type": "markdown",
   "metadata": {},
   "source": [
    "### Acer Laptop Tweets"
   ]
  },
  {
   "cell_type": "code",
   "execution_count": 26,
   "metadata": {},
   "outputs": [
    {
     "name": "stdout",
     "output_type": "stream",
     "text": [
      "(383, 3)\n"
     ]
    },
    {
     "data": {
      "text/html": [
       "<div>\n",
       "<style scoped>\n",
       "    .dataframe tbody tr th:only-of-type {\n",
       "        vertical-align: middle;\n",
       "    }\n",
       "\n",
       "    .dataframe tbody tr th {\n",
       "        vertical-align: top;\n",
       "    }\n",
       "\n",
       "    .dataframe thead th {\n",
       "        text-align: right;\n",
       "    }\n",
       "</style>\n",
       "<table border=\"1\" class=\"dataframe\">\n",
       "  <thead>\n",
       "    <tr style=\"text-align: right;\">\n",
       "      <th></th>\n",
       "      <th>timestamp</th>\n",
       "      <th>text</th>\n",
       "      <th>model</th>\n",
       "    </tr>\n",
       "  </thead>\n",
       "  <tbody>\n",
       "    <tr>\n",
       "      <td>0</td>\n",
       "      <td>2020-03-11 12:42:40+00:00</td>\n",
       "      <td>Abbiamo testato per qualche settimana Acer Swi...</td>\n",
       "      <td>Acer Swift 7</td>\n",
       "    </tr>\n",
       "    <tr>\n",
       "      <td>1</td>\n",
       "      <td>2020-03-02 15:00:02+00:00</td>\n",
       "      <td>Acer Swift 7 (SF714-51T-M97L) 14\" Touch Full H...</td>\n",
       "      <td>Acer Swift 7</td>\n",
       "    </tr>\n",
       "  </tbody>\n",
       "</table>\n",
       "</div>"
      ],
      "text/plain": [
       "                  timestamp  \\\n",
       "0 2020-03-11 12:42:40+00:00   \n",
       "1 2020-03-02 15:00:02+00:00   \n",
       "\n",
       "                                                text         model  \n",
       "0  Abbiamo testato per qualche settimana Acer Swi...  Acer Swift 7  \n",
       "1  Acer Swift 7 (SF714-51T-M97L) 14\" Touch Full H...  Acer Swift 7  "
      ]
     },
     "execution_count": 26,
     "metadata": {},
     "output_type": "execute_result"
    }
   ],
   "source": [
    "text_query = 'acerswift7'\n",
    "since_date = '2010-01-01'\n",
    "until_date = '2020-03-31'\n",
    "count = 1500\n",
    "# Creation of query object\n",
    "tweetCriteria = got.manager.TweetCriteria().setQuerySearch(text_query).setSince(since_date).setUntil(until_date).setMaxTweets(count)\n",
    "# Creation of list that contains all tweets\n",
    "tweets = got.manager.TweetManager.getTweets(tweetCriteria)\n",
    "# Creating list of chosen tweet data\n",
    "text_tweets = [[tweet.date, tweet.text] for tweet in tweets]\n",
    "df14 = pd.DataFrame(text_tweets, columns=['timestamp', 'text'])\n",
    "df14['model'] = 'Acer Swift 7'\n",
    "print(df14.shape)\n",
    "df14.head(2)"
   ]
  },
  {
   "cell_type": "code",
   "execution_count": 21,
   "metadata": {},
   "outputs": [
    {
     "name": "stdout",
     "output_type": "stream",
     "text": [
      "(1500, 3)\n"
     ]
    },
    {
     "data": {
      "text/html": [
       "<div>\n",
       "<style scoped>\n",
       "    .dataframe tbody tr th:only-of-type {\n",
       "        vertical-align: middle;\n",
       "    }\n",
       "\n",
       "    .dataframe tbody tr th {\n",
       "        vertical-align: top;\n",
       "    }\n",
       "\n",
       "    .dataframe thead th {\n",
       "        text-align: right;\n",
       "    }\n",
       "</style>\n",
       "<table border=\"1\" class=\"dataframe\">\n",
       "  <thead>\n",
       "    <tr style=\"text-align: right;\">\n",
       "      <th></th>\n",
       "      <th>timestamp</th>\n",
       "      <th>text</th>\n",
       "      <th>model</th>\n",
       "    </tr>\n",
       "  </thead>\n",
       "  <tbody>\n",
       "    <tr>\n",
       "      <td>0</td>\n",
       "      <td>2020-03-19 05:43:39+00:00</td>\n",
       "      <td>Acer laptop yg sudah lama menemani kita semuan...</td>\n",
       "      <td>Acer Aspire</td>\n",
       "    </tr>\n",
       "    <tr>\n",
       "      <td>1</td>\n",
       "      <td>2020-03-19 05:40:49+00:00</td>\n",
       "      <td>Laptop Acer buat kebutuhan sehari - hari yg pa...</td>\n",
       "      <td>Acer Aspire</td>\n",
       "    </tr>\n",
       "  </tbody>\n",
       "</table>\n",
       "</div>"
      ],
      "text/plain": [
       "                  timestamp  \\\n",
       "0 2020-03-19 05:43:39+00:00   \n",
       "1 2020-03-19 05:40:49+00:00   \n",
       "\n",
       "                                                text        model  \n",
       "0  Acer laptop yg sudah lama menemani kita semuan...  Acer Aspire  \n",
       "1  Laptop Acer buat kebutuhan sehari - hari yg pa...  Acer Aspire  "
      ]
     },
     "execution_count": 21,
     "metadata": {},
     "output_type": "execute_result"
    }
   ],
   "source": [
    "text_query = 'aceraspire'\n",
    "since_date = '2010-01-01'\n",
    "until_date = '2020-03-31'\n",
    "count = 1500\n",
    "# Creation of query object\n",
    "tweetCriteria = got.manager.TweetCriteria().setQuerySearch(text_query).setSince(since_date).setUntil(until_date).setMaxTweets(count)\n",
    "# Creation of list that contains all tweets\n",
    "tweets = got.manager.TweetManager.getTweets(tweetCriteria)\n",
    "# Creating list of chosen tweet data\n",
    "text_tweets = [[tweet.date, tweet.text] for tweet in tweets]\n",
    "df15 = pd.DataFrame(text_tweets, columns=['timestamp', 'text'])\n",
    "df15['model'] = 'Acer Aspire'\n",
    "print(df15.shape)\n",
    "df15.head(2)"
   ]
  },
  {
   "cell_type": "code",
   "execution_count": 27,
   "metadata": {},
   "outputs": [
    {
     "name": "stdout",
     "output_type": "stream",
     "text": [
      "(254, 3)\n"
     ]
    },
    {
     "data": {
      "text/html": [
       "<div>\n",
       "<style scoped>\n",
       "    .dataframe tbody tr th:only-of-type {\n",
       "        vertical-align: middle;\n",
       "    }\n",
       "\n",
       "    .dataframe tbody tr th {\n",
       "        vertical-align: top;\n",
       "    }\n",
       "\n",
       "    .dataframe thead th {\n",
       "        text-align: right;\n",
       "    }\n",
       "</style>\n",
       "<table border=\"1\" class=\"dataframe\">\n",
       "  <thead>\n",
       "    <tr style=\"text-align: right;\">\n",
       "      <th></th>\n",
       "      <th>timestamp</th>\n",
       "      <th>text</th>\n",
       "      <th>model</th>\n",
       "    </tr>\n",
       "  </thead>\n",
       "  <tbody>\n",
       "    <tr>\n",
       "      <td>0</td>\n",
       "      <td>2020-03-30 15:07:06+00:00</td>\n",
       "      <td>Acer Aspire 5 serisi için de Ryzen işlemci seç...</td>\n",
       "      <td>Acer Swift 3</td>\n",
       "    </tr>\n",
       "    <tr>\n",
       "      <td>1</td>\n",
       "      <td>2020-03-25 11:59:18+00:00</td>\n",
       "      <td>PC(Acerswift3)を実質5万円で購入</td>\n",
       "      <td>Acer Swift 3</td>\n",
       "    </tr>\n",
       "  </tbody>\n",
       "</table>\n",
       "</div>"
      ],
      "text/plain": [
       "                  timestamp  \\\n",
       "0 2020-03-30 15:07:06+00:00   \n",
       "1 2020-03-25 11:59:18+00:00   \n",
       "\n",
       "                                                text         model  \n",
       "0  Acer Aspire 5 serisi için de Ryzen işlemci seç...  Acer Swift 3  \n",
       "1                            PC(Acerswift3)を実質5万円で購入  Acer Swift 3  "
      ]
     },
     "execution_count": 27,
     "metadata": {},
     "output_type": "execute_result"
    }
   ],
   "source": [
    "text_query = 'acerswift3'\n",
    "since_date = '2010-01-01'\n",
    "until_date = '2020-03-31'\n",
    "count = 1500\n",
    "# Creation of query object\n",
    "tweetCriteria = got.manager.TweetCriteria().setQuerySearch(text_query).setSince(since_date).setUntil(until_date).setMaxTweets(count)\n",
    "# Creation of list that contains all tweets\n",
    "tweets = got.manager.TweetManager.getTweets(tweetCriteria)\n",
    "# Creating list of chosen tweet data\n",
    "text_tweets = [[tweet.date, tweet.text] for tweet in tweets]\n",
    "df16 = pd.DataFrame(text_tweets, columns=['timestamp', 'text'])\n",
    "df16['model'] = 'Acer Swift 3'\n",
    "print(df16.shape)\n",
    "df16.head(2)"
   ]
  },
  {
   "cell_type": "code",
   "execution_count": 28,
   "metadata": {},
   "outputs": [
    {
     "name": "stdout",
     "output_type": "stream",
     "text": [
      "(252, 3)\n"
     ]
    },
    {
     "data": {
      "text/html": [
       "<div>\n",
       "<style scoped>\n",
       "    .dataframe tbody tr th:only-of-type {\n",
       "        vertical-align: middle;\n",
       "    }\n",
       "\n",
       "    .dataframe tbody tr th {\n",
       "        vertical-align: top;\n",
       "    }\n",
       "\n",
       "    .dataframe thead th {\n",
       "        text-align: right;\n",
       "    }\n",
       "</style>\n",
       "<table border=\"1\" class=\"dataframe\">\n",
       "  <thead>\n",
       "    <tr style=\"text-align: right;\">\n",
       "      <th></th>\n",
       "      <th>timestamp</th>\n",
       "      <th>text</th>\n",
       "      <th>model</th>\n",
       "    </tr>\n",
       "  </thead>\n",
       "  <tbody>\n",
       "    <tr>\n",
       "      <td>0</td>\n",
       "      <td>2020-03-28 16:00:03+00:00</td>\n",
       "      <td>Acer Swift 5 SF514-54T-76PY review: Dazzling a...</td>\n",
       "      <td>Acer Swift 5</td>\n",
       "    </tr>\n",
       "    <tr>\n",
       "      <td>1</td>\n",
       "      <td>2020-03-15 23:43:11+00:00</td>\n",
       "      <td>Acer Swift 5 SF514-54T-76PY unboxing and first...</td>\n",
       "      <td>Acer Swift 5</td>\n",
       "    </tr>\n",
       "  </tbody>\n",
       "</table>\n",
       "</div>"
      ],
      "text/plain": [
       "                  timestamp  \\\n",
       "0 2020-03-28 16:00:03+00:00   \n",
       "1 2020-03-15 23:43:11+00:00   \n",
       "\n",
       "                                                text         model  \n",
       "0  Acer Swift 5 SF514-54T-76PY review: Dazzling a...  Acer Swift 5  \n",
       "1  Acer Swift 5 SF514-54T-76PY unboxing and first...  Acer Swift 5  "
      ]
     },
     "execution_count": 28,
     "metadata": {},
     "output_type": "execute_result"
    }
   ],
   "source": [
    "text_query = 'acerswift5'\n",
    "since_date = '2010-01-01'\n",
    "until_date = '2020-03-31'\n",
    "count = 1500\n",
    "# Creation of query object\n",
    "tweetCriteria = got.manager.TweetCriteria().setQuerySearch(text_query).setSince(since_date).setUntil(until_date).setMaxTweets(count)\n",
    "# Creation of list that contains all tweets\n",
    "tweets = got.manager.TweetManager.getTweets(tweetCriteria)\n",
    "# Creating list of chosen tweet data\n",
    "text_tweets = [[tweet.date, tweet.text] for tweet in tweets]\n",
    "df17 = pd.DataFrame(text_tweets, columns=['timestamp', 'text'])\n",
    "df17['model'] = 'Acer Swift 5'\n",
    "print(df17.shape)\n",
    "df17.head(2)"
   ]
  },
  {
   "cell_type": "markdown",
   "metadata": {},
   "source": [
    "### Combine all brand tweets"
   ]
  },
  {
   "cell_type": "code",
   "execution_count": 29,
   "metadata": {},
   "outputs": [
    {
     "name": "stdout",
     "output_type": "stream",
     "text": [
      "(17330, 3)\n"
     ]
    }
   ],
   "source": [
    "df_hp = pd.concat([df1, df2, df3], axis=0)\n",
    "df_mac = pd.concat([df4, df5], axis=0)\n",
    "df_dell = pd.concat([df6, df7, df8], axis=0)\n",
    "df_asus = pd.concat([df9, df10, df11], axis=0)\n",
    "df_lenovo = pd.concat([df12, df13], axis=0)\n",
    "df_acer = pd.concat([df14, df15, df16, df17], axis=0)\n",
    "df_all = pd.concat([df_hp, df_mac, df_dell, df_asus, df_lenovo, df_acer], axis=0)\n",
    "print(df_all.shape)"
   ]
  },
  {
   "cell_type": "code",
   "execution_count": 30,
   "metadata": {},
   "outputs": [],
   "source": [
    "df_all.to_csv(\"twitter.csv\", index = False, header=True)"
   ]
  }
 ],
 "metadata": {
  "kernelspec": {
   "display_name": "Python 3",
   "language": "python",
   "name": "python3"
  },
  "language_info": {
   "codemirror_mode": {
    "name": "ipython",
    "version": 3
   },
   "file_extension": ".py",
   "mimetype": "text/x-python",
   "name": "python",
   "nbconvert_exporter": "python",
   "pygments_lexer": "ipython3",
   "version": "3.7.4"
  }
 },
 "nbformat": 4,
 "nbformat_minor": 2
}
